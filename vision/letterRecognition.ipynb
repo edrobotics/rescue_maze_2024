{
 "cells": [
  {
   "cell_type": "code",
   "execution_count": 21,
   "metadata": {},
   "outputs": [],
   "source": [
    "import numpy as np\n",
    "import tensorflow.lite as tflite\n",
    "import os\n",
    "import cv2"
   ]
  },
  {
   "cell_type": "code",
   "execution_count": 25,
   "metadata": {},
   "outputs": [],
   "source": [
    "class letters:\n",
    "    classes = ['H', 'S', 'U', 'none']\n",
    "    def __init__(self,dir_path):\n",
    "        self.dir_path = dir_path\n",
    "        model_path = os.path.join(self.dir_path,\"model.tflite\")\n",
    "        self.interpreter = tflite.Interpreter(model_path=model_path)\n",
    "        self.interpreter.allocate_tensors()\n",
    "        self.input_details = self.interpreter.get_input_details()\n",
    "        self.output_details = self.interpreter.get_output_details()\n",
    "    def recogniseSection(self,image):\n",
    "\n",
    "        image = cv2.resize(image,(25,25))\n",
    "        image = np.float32(image)\n",
    "        image = np.expand_dims(image, axis=0)\n",
    "\n",
    "        self.interpreter.set_tensor(self.input_details[0]['index'], image)\n",
    "\n",
    "        self.interpreter.invoke()\n",
    "\n",
    "        output_data = self.interpreter.get_tensor(self.output_details[0]['index'])\n",
    "        print(output_data)\n",
    "        victim = self.classes[np.argmax(output_data[0])]\n",
    "        print(victim)\n",
    "        \n",
    "        return victim\n",
    "    "
   ]
  },
  {
   "cell_type": "code",
   "execution_count": 26,
   "metadata": {},
   "outputs": [],
   "source": [
    "model = letters(dir_path=\"/Users/lukas/GitHub/rescue_maze_2024/vision\")\n"
   ]
  },
  {
   "cell_type": "code",
   "execution_count": 27,
   "metadata": {},
   "outputs": [
    {
     "name": "stdout",
     "output_type": "stream",
     "text": [
      "[[13.030631  -6.002902  -1.3789885 -7.2613277]]\n",
      "H\n",
      "H\n"
     ]
    }
   ],
   "source": [
    "path = \"/Users/lukas/GitHub/rescue_maze_2024/vision/source/H/H420.png\"\n",
    "file = cv2.imread(path)\n",
    "print(model.recogniseSection(file))"
   ]
  },
  {
   "cell_type": "code",
   "execution_count": null,
   "metadata": {},
   "outputs": [],
   "source": []
  }
 ],
 "metadata": {
  "kernelspec": {
   "display_name": "Python 3",
   "language": "python",
   "name": "python3"
  },
  "language_info": {
   "codemirror_mode": {
    "name": "ipython",
    "version": 3
   },
   "file_extension": ".py",
   "mimetype": "text/x-python",
   "name": "python",
   "nbconvert_exporter": "python",
   "pygments_lexer": "ipython3",
   "version": "3.11.5"
  }
 },
 "nbformat": 4,
 "nbformat_minor": 2
}
