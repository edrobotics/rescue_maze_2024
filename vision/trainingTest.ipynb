{
 "cells": [
  {
   "cell_type": "code",
   "execution_count": 30,
   "metadata": {},
   "outputs": [],
   "source": [
    "import tensorflow as tf\n",
    "import numpy as np\n",
    "from tensorflow.keras.preprocessing.image import ImageDataGenerator, array_to_img\n",
    "from tensorflow import keras\n",
    "import matplotlib.pyplot as plt\n",
    "import pathlib\n",
    "import os       \n",
    "import shutil\n",
    "import random\n",
    "import PIL\n",
    "import seaborn as sns"
   ]
  },
  {
   "cell_type": "code",
   "execution_count": 49,
   "metadata": {},
   "outputs": [],
   "source": [
    "data_dir = \"/Users/lukas/GitHub/rescue_maze_2024/vision/training/source/\""
   ]
  },
  {
   "cell_type": "code",
   "execution_count": 50,
   "metadata": {},
   "outputs": [
    {
     "name": "stdout",
     "output_type": "stream",
     "text": [
      "Found 3462 files belonging to 4 classes.\n",
      "Using 1731 files for training.\n",
      "Found 3462 files belonging to 4 classes.\n",
      "Using 1731 files for validation.\n"
     ]
    }
   ],
   "source": [
    "batch_size = 32\n",
    "img_height = 25\n",
    "img_width = 25\n",
    "seed = 1337\n",
    "v_split = 0.5\n",
    "\n",
    "\n",
    "train_ds = tf.keras.utils.image_dataset_from_directory(\n",
    "  data_dir,\n",
    "  validation_split=v_split,\n",
    "  subset=\"training\",\n",
    "  seed=seed,\n",
    "  image_size=(img_height, img_width),\n",
    "  batch_size=batch_size)\n",
    "\n",
    "\n",
    "val_ds = tf.keras.utils.image_dataset_from_directory(\n",
    "  data_dir,\n",
    "  validation_split=v_split,\n",
    "  subset=\"validation\",\n",
    "  seed=seed,\n",
    "  image_size=(img_height, img_width),\n",
    "  batch_size=batch_size)"
   ]
  },
  {
   "cell_type": "code",
   "execution_count": 51,
   "metadata": {},
   "outputs": [],
   "source": [
    "#import pathlib\n",
    "#dataset_url = \"https://storage.googleapis.com/download.tensorflow.org/example_images/flower_photos.tgz\"\n",
    "#archive = tf.keras.utils.get_file(origin=dataset_url, extract=True)\n",
    "#data_dir = pathlib.Path(archive).with_suffix('')\n",
    "#print(data_dir)"
   ]
  },
  {
   "cell_type": "code",
   "execution_count": 52,
   "metadata": {},
   "outputs": [
    {
     "name": "stdout",
     "output_type": "stream",
     "text": [
      "['H', 'S', 'U', 'none']\n"
     ]
    }
   ],
   "source": [
    "class_names = train_ds.class_names\n",
    "print(class_names)"
   ]
  },
  {
   "cell_type": "code",
   "execution_count": 53,
   "metadata": {},
   "outputs": [
    {
     "data": {
      "image/png": "[encoded data removed]",
      "text/plain": [
       "<Figure size 1000x1000 with 9 Axes>"
      ]
     },
     "metadata": {},
     "output_type": "display_data"
    }
   ],
   "source": [
    "plt.figure(figsize=(10, 10))\n",
    "for images, labels in train_ds.take(1):\n",
    "  for i in range(9):\n",
    "    ax = plt.subplot(3, 3, i + 1)\n",
    "    plt.imshow(images[i].numpy().astype(\"uint8\"))\n",
    "    plt.title(class_names[labels[i]])\n",
    "    plt.axis(\"off\")\n",
    "    "
   ]
  },
  {
   "cell_type": "code",
   "execution_count": 54,
   "metadata": {},
   "outputs": [
    {
     "data": {
      "text/plain": [
       "Text(0.5, 1.0, 'count')"
      ]
     },
     "execution_count": 54,
     "metadata": {},
     "output_type": "execute_result"
    },
    {
     "data": {
      "image/png": "[encoded data removed]",
      "text/plain": [
       "<Figure size 640x480 with 1 Axes>"
      ]
     },
     "metadata": {},
     "output_type": "display_data"
    }
   ],
   "source": [
    "sns.countplot(x=labels.numpy())\n",
    "plt.xlabel('letter')\n",
    "plt.title(\"count\")"
   ]
  },
  {
   "cell_type": "code",
   "execution_count": 55,
   "metadata": {},
   "outputs": [],
   "source": [
    "def create_model():\n",
    "  num_classes = 4\n",
    "  model = tf.keras.Sequential([\n",
    "    tf.keras.layers.Rescaling(1./255),\n",
    "    tf.keras.layers.Conv2D(32, 3, activation='relu'),\n",
    "    tf.keras.layers.MaxPooling2D(),\n",
    "    tf.keras.layers.Flatten(),\n",
    "    tf.keras.layers.Dense(128, activation='relu'),\n",
    "    tf.keras.layers.Dense(num_classes, activation=\"softmax\")\n",
    "  ])\n",
    "  model.compile(\n",
    "    optimizer='adam',\n",
    "    loss=tf.keras.losses.SparseCategoricalCrossentropy(from_logits=False),\n",
    "    metrics=['accuracy'])\n",
    "  return model \n",
    "model = create_model()\n"
   ]
  },
  {
   "cell_type": "code",
   "execution_count": 56,
   "metadata": {},
   "outputs": [
    {
     "name": "stdout",
     "output_type": "stream",
     "text": [
      "Epoch 1/10\n"
     ]
    },
    {
     "name": "stdout",
     "output_type": "stream",
     "text": [
      "55/55 [==============================] - 1s 9ms/step - loss: 0.0900 - accuracy: 0.9717 - val_loss: 0.0031 - val_accuracy: 1.0000\n",
      "Epoch 2/10\n",
      "55/55 [==============================] - 0s 7ms/step - loss: 0.0017 - accuracy: 0.9994 - val_loss: 0.0011 - val_accuracy: 1.0000\n",
      "Epoch 3/10\n",
      "55/55 [==============================] - 0s 7ms/step - loss: 3.1706e-04 - accuracy: 1.0000 - val_loss: 0.0010 - val_accuracy: 1.0000\n",
      "Epoch 4/10\n",
      "55/55 [==============================] - 0s 8ms/step - loss: 1.7886e-04 - accuracy: 1.0000 - val_loss: 8.1308e-04 - val_accuracy: 1.0000\n",
      "Epoch 5/10\n",
      "55/55 [==============================] - 0s 7ms/step - loss: 1.1709e-04 - accuracy: 1.0000 - val_loss: 5.9603e-04 - val_accuracy: 1.0000\n",
      "Epoch 6/10\n",
      "55/55 [==============================] - 0s 7ms/step - loss: 8.7337e-05 - accuracy: 1.0000 - val_loss: 4.6450e-04 - val_accuracy: 1.0000\n",
      "Epoch 7/10\n",
      "55/55 [==============================] - 0s 7ms/step - loss: 6.6653e-05 - accuracy: 1.0000 - val_loss: 5.0780e-04 - val_accuracy: 1.0000\n",
      "Epoch 8/10\n",
      "55/55 [==============================] - 0s 7ms/step - loss: 5.2069e-05 - accuracy: 1.0000 - val_loss: 4.3708e-04 - val_accuracy: 1.0000\n",
      "Epoch 9/10\n",
      "55/55 [==============================] - 0s 7ms/step - loss: 4.1535e-05 - accuracy: 1.0000 - val_loss: 3.6705e-04 - val_accuracy: 1.0000\n",
      "Epoch 10/10\n",
      "55/55 [==============================] - 0s 7ms/step - loss: 3.4552e-05 - accuracy: 1.0000 - val_loss: 3.0118e-04 - val_accuracy: 1.0000\n"
     ]
    },
    {
     "data": {
      "text/plain": [
       "<keras.src.callbacks.History at 0x17d00da50>"
      ]
     },
     "execution_count": 56,
     "metadata": {},
     "output_type": "execute_result"
    }
   ],
   "source": [
    "model.fit(\n",
    "  train_ds,\n",
    "  validation_data=val_ds,\n",
    "  epochs=10\n",
    ")"
   ]
  },
  {
   "cell_type": "code",
   "execution_count": null,
   "metadata": {},
   "outputs": [],
   "source": [
    "model.save_weights('./checkpoints/my_checkpoint')"
   ]
  },
  {
   "cell_type": "code",
   "execution_count": null,
   "metadata": {},
   "outputs": [
    {
     "name": "stdout",
     "output_type": "stream",
     "text": [
      "53/53 - 0s - loss: 9.2360e-07 - accuracy: 1.0000 - 305ms/epoch - 6ms/step\n",
      "Restored model, accuracy: 100.00%\n"
     ]
    }
   ],
   "source": [
    "model2 = create_model()\n",
    "model2.load_weights('./checkpoints/my_checkpoint').expect_partial()\n",
    "loss, acc = model2.evaluate(val_ds, verbose=2)\n",
    "print(\"Restored model, accuracy: {:5.2f}%\".format(100 * acc))\n",
    "\n",
    "#model2.predict_proba(x=)"
   ]
  },
  {
   "cell_type": "code",
   "execution_count": null,
   "metadata": {},
   "outputs": [
    {
     "name": "stdout",
     "output_type": "stream",
     "text": [
      "INFO:tensorflow:Assets written to: /var/folders/5c/9kv0yjyx7n54710xzsy97_rc0000gn/T/tmpvh4x266l/assets\n"
     ]
    },
    {
     "name": "stderr",
     "output_type": "stream",
     "text": [
      "INFO:tensorflow:Assets written to: /var/folders/5c/9kv0yjyx7n54710xzsy97_rc0000gn/T/tmpvh4x266l/assets\n",
      "2024-04-12 13:32:29.746938: W tensorflow/compiler/mlir/lite/python/tf_tfl_flatbuffer_helpers.cc:364] Ignored output_format.\n",
      "2024-04-12 13:32:29.746952: W tensorflow/compiler/mlir/lite/python/tf_tfl_flatbuffer_helpers.cc:367] Ignored drop_control_dependency.\n",
      "2024-04-12 13:32:29.747107: I tensorflow/cc/saved_model/reader.cc:45] Reading SavedModel from: /var/folders/5c/9kv0yjyx7n54710xzsy97_rc0000gn/T/tmpvh4x266l\n",
      "2024-04-12 13:32:29.747931: I tensorflow/cc/saved_model/reader.cc:91] Reading meta graph with tags { serve }\n",
      "2024-04-12 13:32:29.747938: I tensorflow/cc/saved_model/reader.cc:132] Reading SavedModel debug info (if present) from: /var/folders/5c/9kv0yjyx7n54710xzsy97_rc0000gn/T/tmpvh4x266l\n",
      "2024-04-12 13:32:29.750546: I tensorflow/cc/saved_model/loader.cc:231] Restoring SavedModel bundle.\n",
      "2024-04-12 13:32:29.795384: I tensorflow/cc/saved_model/loader.cc:215] Running initialization op on SavedModel bundle at path: /var/folders/5c/9kv0yjyx7n54710xzsy97_rc0000gn/T/tmpvh4x266l\n",
      "2024-04-12 13:32:29.806690: I tensorflow/cc/saved_model/loader.cc:314] SavedModel load for tags { serve }; Status: success: OK. Took 59581 microseconds.\n"
     ]
    }
   ],
   "source": [
    "converter = tf.lite.TFLiteConverter.from_keras_model(model)\n",
    "tflite_model = converter.convert()\n",
    "\n",
    "# Save the model.\n",
    "with open('/Users/lukas/GitHub/rescue_maze_2024/vision/model.tflite', 'wb') as f:\n",
    "  f.write(tflite_model)"
   ]
  },
  {
   "cell_type": "code",
   "execution_count": null,
   "metadata": {},
   "outputs": [],
   "source": [
    "probability_model = tf.keras.Sequential([model, \n",
    "                                         tf.keras.layers.Softmax()])\n",
    "                                         "
   ]
  },
  {
   "cell_type": "code",
   "execution_count": null,
   "metadata": {},
   "outputs": [
    {
     "name": "stdout",
     "output_type": "stream",
     "text": [
      "(1, 25, 25, 3)\n",
      "float32\n",
      "1/1 [==============================] - 0s 49ms/step\n"
     ]
    }
   ],
   "source": [
    "import cv2\n",
    "path = \"/Users/lukas/GitHub/rescue_maze_2024/vision/training/source/U/U42.png\"\n",
    "file = cv2.imread(path)\n",
    "file = cv2.resize(file,(25,25))\n",
    "#file = file/255\n",
    "file = np.float32(file)\n",
    "file = np.expand_dims(file, axis=0)\n",
    "print(file.shape)\n",
    "print(file.dtype)\n",
    "#predictions = probability_model.predict(file)\n",
    "predictions = model.predict(file)"
   ]
  },
  {
   "cell_type": "code",
   "execution_count": null,
   "metadata": {},
   "outputs": [
    {
     "name": "stdout",
     "output_type": "stream",
     "text": [
      "[[1.0110593e-06 7.8611652e-07 9.9999821e-01 2.5784864e-08]]\n"
     ]
    },
    {
     "data": {
      "text/plain": [
       "'U'"
      ]
     },
     "execution_count": 26,
     "metadata": {},
     "output_type": "execute_result"
    }
   ],
   "source": [
    "print(predictions)\n",
    "np.argmax(predictions[0])\n",
    "class_names[np.argmax(predictions[0])]"
   ]
  },
  {
   "cell_type": "code",
   "execution_count": null,
   "metadata": {},
   "outputs": [
    {
     "name": "stdout",
     "output_type": "stream",
     "text": [
      "(25, 25, 3)\n",
      "uint8\n",
      "(25, 25, 3)\n",
      "uint8\n",
      "float32\n",
      "(1, 25, 25, 3)\n",
      "[[9.9999964e-01 4.6929703e-08 2.9968587e-07 1.9423476e-09]]\n"
     ]
    }
   ],
   "source": [
    "interpreter = tf.lite.Interpreter(model_path=\"model.tflite\")\n",
    "interpreter.allocate_tensors()\n",
    "\n",
    "# Get input and output tensors.\n",
    "input_details = interpreter.get_input_details()\n",
    "output_details = interpreter.get_output_details()\n",
    "\n",
    "# Test the model on random input data.\n",
    "input_shape = input_details[0]['shape']\n",
    "path = \"/Users/lukas/GitHub/rescue_maze_2024/vision/training/source/H/H420.png\"\n",
    "file = cv2.imread(path)\n",
    "file = cv2.resize(file,(25,25))\n",
    "print(file.shape)\n",
    "print(file.dtype)\n",
    "#file = file/255\n",
    "print(file.shape)\n",
    "print(file.dtype)\n",
    "file = np.float32(file)\n",
    "file = np.expand_dims(file, axis=0)\n",
    "print(file.dtype)\n",
    "print(file.shape)\n",
    "\n",
    "interpreter.set_tensor(input_details[0]['index'], file)\n",
    "\n",
    "interpreter.invoke()\n",
    "output_data = interpreter.get_tensor(output_details[0]['index'])\n",
    "print(output_data)"
   ]
  },
  {
   "cell_type": "code",
   "execution_count": null,
   "metadata": {},
   "outputs": [],
   "source": []
  },
  {
   "cell_type": "code",
   "execution_count": null,
   "metadata": {},
   "outputs": [],
   "source": []
  }
 ],
 "metadata": {
  "kernelspec": {
   "display_name": "Python 3",
   "language": "python",
   "name": "python3"
  },
  "language_info": {
   "codemirror_mode": {
    "name": "ipython",
    "version": 3
   },
   "file_extension": ".py",
   "mimetype": "text/x-python",
   "name": "python",
   "nbconvert_exporter": "python",
   "pygments_lexer": "ipython3",
   "version": "3.11.5"
  }
 },
 "nbformat": 4,
 "nbformat_minor": 2
}
