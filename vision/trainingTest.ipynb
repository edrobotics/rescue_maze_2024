{
 "cells": [
  {
   "cell_type": "code",
   "execution_count": 4,
   "metadata": {},
   "outputs": [],
   "source": [
    "import tensorflow as tf\n",
    "import numpy as np\n",
    "from tensorflow.keras.preprocessing.image import ImageDataGenerator, array_to_img\n",
    "from tensorflow import keras\n",
    "import matplotlib.pyplot as plt\n",
    "import pathlib\n",
    "import os\n",
    "import shutil\n",
    "import random\n",
    "import PIL"
   ]
  },
  {
   "cell_type": "code",
   "execution_count": 8,
   "metadata": {},
   "outputs": [],
   "source": [
    "data_dir = \"/Users/lukas/GitHub/rescue_maze_2024/vision/source/\""
   ]
  },
  {
   "cell_type": "code",
   "execution_count": 9,
   "metadata": {},
   "outputs": [
    {
     "name": "stdout",
     "output_type": "stream",
     "text": [
      "Found 2331 files belonging to 4 classes.\n",
      "Using 1865 files for training.\n",
      "Found 2331 files belonging to 4 classes.\n",
      "Using 466 files for validation.\n"
     ]
    }
   ],
   "source": [
    "batch_size = 32\n",
    "img_height = 25\n",
    "img_width = 25\n",
    "seed = 1337\n",
    "v_split = 0.2\n",
    "\n",
    "\n",
    "train_ds = tf.keras.utils.image_dataset_from_directory(\n",
    "  data_dir,\n",
    "  validation_split=v_split,\n",
    "  subset=\"training\",\n",
    "  seed=seed,\n",
    "  image_size=(img_height, img_width),\n",
    "  batch_size=batch_size)\n",
    "\n",
    "\n",
    "val_ds = tf.keras.utils.image_dataset_from_directory(\n",
    "  data_dir,\n",
    "  validation_split=v_split,\n",
    "  subset=\"validation\",\n",
    "  seed=seed,\n",
    "  image_size=(img_height, img_width),\n",
    "  batch_size=batch_size)"
   ]
  },
  {
   "cell_type": "code",
   "execution_count": 46,
   "metadata": {},
   "outputs": [],
   "source": [
    "#import pathlib\n",
    "#dataset_url = \"https://storage.googleapis.com/download.tensorflow.org/example_images/flower_photos.tgz\"\n",
    "#archive = tf.keras.utils.get_file(origin=dataset_url, extract=True)\n",
    "#data_dir = pathlib.Path(archive).with_suffix('')\n",
    "#print(data_dir)"
   ]
  },
  {
   "cell_type": "code",
   "execution_count": 56,
   "metadata": {},
   "outputs": [
    {
     "name": "stdout",
     "output_type": "stream",
     "text": [
      "['H', 'S', 'U', 'none']\n"
     ]
    }
   ],
   "source": [
    "class_names = train_ds.class_names\n",
    "print(class_names)"
   ]
  },
  {
   "cell_type": "code",
   "execution_count": 57,
   "metadata": {},
   "outputs": [
    {
     "data": {
      "image/png": "[encoded data removed]",
      "text/plain": [
       "<Figure size 1000x1000 with 9 Axes>"
      ]
     },
     "metadata": {},
     "output_type": "display_data"
    }
   ],
   "source": [
    "plt.figure(figsize=(10, 10))\n",
    "for images, labels in train_ds.take(1):\n",
    "  for i in range(9):\n",
    "    ax = plt.subplot(3, 3, i + 1)\n",
    "    plt.imshow(images[i].numpy().astype(\"uint8\"))\n",
    "    plt.title(class_names[labels[i]])\n",
    "    plt.axis(\"off\")"
   ]
  },
  {
   "cell_type": "code",
   "execution_count": 5,
   "metadata": {},
   "outputs": [],
   "source": [
    "def create_model():\n",
    "  num_classes = 4\n",
    "  model = tf.keras.Sequential([\n",
    "    tf.keras.layers.Rescaling(1./255),\n",
    "    tf.keras.layers.Conv2D(32, 3, activation='relu'),\n",
    "    tf.keras.layers.MaxPooling2D(),\n",
    "    tf.keras.layers.Flatten(),\n",
    "    tf.keras.layers.Dense(128, activation='relu'),\n",
    "    tf.keras.layers.Dense(num_classes)\n",
    "  ])\n",
    "  model.compile(\n",
    "    optimizer='adam',\n",
    "    loss=tf.keras.losses.SparseCategoricalCrossentropy(from_logits=True),\n",
    "    metrics=['accuracy'])\n",
    "  return model \n",
    "model = create_model()\n"
   ]
  },
  {
   "cell_type": "code",
   "execution_count": null,
   "metadata": {},
   "outputs": [],
   "source": []
  },
  {
   "cell_type": "code",
   "execution_count": 11,
   "metadata": {},
   "outputs": [
    {
     "name": "stdout",
     "output_type": "stream",
     "text": [
      "Epoch 1/10\n",
      "59/59 [==============================] - 1s 8ms/step - loss: 0.0605 - accuracy: 0.9759 - val_loss: 7.6673e-05 - val_accuracy: 1.0000\n",
      "Epoch 2/10\n",
      "59/59 [==============================] - 0s 6ms/step - loss: 3.8003e-05 - accuracy: 1.0000 - val_loss: 2.5440e-05 - val_accuracy: 1.0000\n",
      "Epoch 3/10\n",
      "59/59 [==============================] - 0s 6ms/step - loss: 1.6588e-05 - accuracy: 1.0000 - val_loss: 1.0342e-05 - val_accuracy: 1.0000\n",
      "Epoch 4/10\n",
      "59/59 [==============================] - 0s 6ms/step - loss: 6.3741e-06 - accuracy: 1.0000 - val_loss: 2.9258e-06 - val_accuracy: 1.0000\n",
      "Epoch 5/10\n",
      "59/59 [==============================] - 0s 6ms/step - loss: 2.6844e-06 - accuracy: 1.0000 - val_loss: 1.9618e-06 - val_accuracy: 1.0000\n",
      "Epoch 6/10\n",
      "59/59 [==============================] - 0s 6ms/step - loss: 1.7631e-06 - accuracy: 1.0000 - val_loss: 1.3136e-06 - val_accuracy: 1.0000\n",
      "Epoch 7/10\n",
      "59/59 [==============================] - 0s 7ms/step - loss: 1.1497e-06 - accuracy: 1.0000 - val_loss: 8.1399e-07 - val_accuracy: 1.0000\n",
      "Epoch 8/10\n",
      "59/59 [==============================] - 0s 6ms/step - loss: 7.2534e-07 - accuracy: 1.0000 - val_loss: 5.1648e-07 - val_accuracy: 1.0000\n",
      "Epoch 9/10\n",
      "59/59 [==============================] - 0s 7ms/step - loss: 4.6386e-07 - accuracy: 1.0000 - val_loss: 3.3844e-07 - val_accuracy: 1.0000\n",
      "Epoch 10/10\n",
      "59/59 [==============================] - 0s 7ms/step - loss: 3.1275e-07 - accuracy: 1.0000 - val_loss: 2.3816e-07 - val_accuracy: 1.0000\n"
     ]
    },
    {
     "data": {
      "text/plain": [
       "<keras.src.callbacks.History at 0x28c80d990>"
      ]
     },
     "execution_count": 11,
     "metadata": {},
     "output_type": "execute_result"
    }
   ],
   "source": [
    "model.fit(\n",
    "  train_ds,\n",
    "  validation_data=val_ds,\n",
    "  epochs=10\n",
    ")"
   ]
  },
  {
   "cell_type": "code",
   "execution_count": 60,
   "metadata": {},
   "outputs": [],
   "source": [
    "model.save_weights('./checkpoints/my_checkpoint')"
   ]
  },
  {
   "cell_type": "code",
   "execution_count": 12,
   "metadata": {},
   "outputs": [
    {
     "name": "stdout",
     "output_type": "stream",
     "text": [
      "15/15 - 0s - loss: 5.6835e-06 - accuracy: 1.0000 - 175ms/epoch - 12ms/step\n",
      "Restored model, accuracy: 100.00%\n"
     ]
    }
   ],
   "source": [
    "model2 = create_model()\n",
    "model2.load_weights('./checkpoints/my_checkpoint').expect_partial()\n",
    "loss, acc = model2.evaluate(val_ds, verbose=2)\n",
    "print(\"Restored model, accuracy: {:5.2f}%\".format(100 * acc))\n",
    "\n",
    "#model2.predict_proba(x=)"
   ]
  }
 ],
 "metadata": {
  "kernelspec": {
   "display_name": "Python 3",
   "language": "python",
   "name": "python3"
  },
  "language_info": {
   "codemirror_mode": {
    "name": "ipython",
    "version": 3
   },
   "file_extension": ".py",
   "mimetype": "text/x-python",
   "name": "python",
   "nbconvert_exporter": "python",
   "pygments_lexer": "ipython3",
   "version": "3.11.5"
  }
 },
 "nbformat": 4,
 "nbformat_minor": 2
}
